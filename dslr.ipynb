{
 "cells": [
  {
   "cell_type": "code",
   "execution_count": 2,
   "id": "34fb93ab-7068-41d4-844b-17850ec36e9a",
   "metadata": {},
   "outputs": [
    {
     "name": "stdout",
     "output_type": "stream",
     "text": [
      "                |       Count |        Mean |         Std |         Min |         25% |         50% |         75% |         Max\n",
      "Index\n",
      "0      41642.0\n",
      "1      45352.0\n",
      "2      43502.0\n",
      "3      61831.0\n",
      "4          NaN\n",
      "        ...   \n",
      "395    45857.0\n",
      "396    51842.0\n",
      "397    61982.0\n",
      "398    56020.0\n",
      "399    46452.0\n",
      "Name: Arithmancy, Length: 400, dtype: float64\n",
      "Unexpected exception formatting exception. Falling back to standard exception\n",
      "\n",
      "\n",
      "\n",
      "                |       Count |        Mean |         Std |         Min |         25% |         50% |         75% |         Max\n",
      "Index\n",
      "0      41642.0\n",
      "1      45352.0\n",
      "2      43502.0\n",
      "3      61831.0\n",
      "4          NaN\n",
      "        ...   \n",
      "395    45857.0\n",
      "396    51842.0\n",
      "397    61982.0\n",
      "398    56020.0\n",
      "399    46452.0\n",
      "Name: Arithmancy, Length: 400, dtype: float64\n"
     ]
    },
    {
     "name": "stderr",
     "output_type": "stream",
     "text": [
      "Traceback (most recent call last):\n",
      "  File \"/Users/clala/Desktop/REPOs/dslr/venv/lib/python3.9/site-packages/IPython/core/interactiveshell.py\", line 2738, in safe_execfile\n",
      "    py3compat.execfile(\n",
      "  File \"/Users/clala/Desktop/REPOs/dslr/venv/lib/python3.9/site-packages/IPython/utils/py3compat.py\", line 55, in execfile\n",
      "    exec(compiler(f.read(), fname, \"exec\"), glob, loc)\n",
      "  File \"/Users/clala/Desktop/REPOs/dslr/describe.py\", line 53, in <module>\n",
      "    describe()\n",
      "  File \"/Users/clala/Desktop/REPOs/dslr/describe.py\", line 41, in describe\n",
      "    for calculated in [count_(column), mean_(column), std_(column), min_(column),\n",
      "  File \"/Users/clala/Desktop/REPOs/dslr/dslr_math.py\", line 17, in mean_\n",
      "    if np.isnan(x):\n",
      "NameError: name 'np' is not defined\n",
      "\n",
      "During handling of the above exception, another exception occurred:\n",
      "\n",
      "Traceback (most recent call last):\n",
      "  File \"/Users/clala/Desktop/REPOs/dslr/venv/lib/python3.9/site-packages/IPython/core/interactiveshell.py\", line 1993, in showtraceback\n",
      "    stb = self.InteractiveTB.structured_traceback(\n",
      "  File \"/Users/clala/Desktop/REPOs/dslr/venv/lib/python3.9/site-packages/IPython/core/ultratb.py\", line 1118, in structured_traceback\n",
      "    return FormattedTB.structured_traceback(\n",
      "  File \"/Users/clala/Desktop/REPOs/dslr/venv/lib/python3.9/site-packages/IPython/core/ultratb.py\", line 1012, in structured_traceback\n",
      "    return VerboseTB.structured_traceback(\n",
      "  File \"/Users/clala/Desktop/REPOs/dslr/venv/lib/python3.9/site-packages/IPython/core/ultratb.py\", line 865, in structured_traceback\n",
      "    formatted_exception = self.format_exception_as_a_whole(etype, evalue, etb, number_of_lines_of_context,\n",
      "  File \"/Users/clala/Desktop/REPOs/dslr/venv/lib/python3.9/site-packages/IPython/core/ultratb.py\", line 818, in format_exception_as_a_whole\n",
      "    frames.append(self.format_record(r))\n",
      "  File \"/Users/clala/Desktop/REPOs/dslr/venv/lib/python3.9/site-packages/IPython/core/ultratb.py\", line 736, in format_record\n",
      "    result += ''.join(_format_traceback_lines(frame_info.lines, Colors, self.has_colors, lvals))\n",
      "  File \"/Users/clala/Desktop/REPOs/dslr/venv/lib/python3.9/site-packages/stack_data/utils.py\", line 145, in cached_property_wrapper\n",
      "    value = obj.__dict__[self.func.__name__] = self.func(obj)\n",
      "  File \"/Users/clala/Desktop/REPOs/dslr/venv/lib/python3.9/site-packages/stack_data/core.py\", line 698, in lines\n",
      "    pieces = self.included_pieces\n",
      "  File \"/Users/clala/Desktop/REPOs/dslr/venv/lib/python3.9/site-packages/stack_data/utils.py\", line 145, in cached_property_wrapper\n",
      "    value = obj.__dict__[self.func.__name__] = self.func(obj)\n",
      "  File \"/Users/clala/Desktop/REPOs/dslr/venv/lib/python3.9/site-packages/stack_data/core.py\", line 649, in included_pieces\n",
      "    pos = scope_pieces.index(self.executing_piece)\n",
      "  File \"/Users/clala/Desktop/REPOs/dslr/venv/lib/python3.9/site-packages/stack_data/utils.py\", line 145, in cached_property_wrapper\n",
      "    value = obj.__dict__[self.func.__name__] = self.func(obj)\n",
      "  File \"/Users/clala/Desktop/REPOs/dslr/venv/lib/python3.9/site-packages/stack_data/core.py\", line 628, in executing_piece\n",
      "    return only(\n",
      "  File \"/Users/clala/Desktop/REPOs/dslr/venv/lib/python3.9/site-packages/executing/executing.py\", line 164, in only\n",
      "    raise NotOneValueFound('Expected one value, found 0')\n",
      "executing.executing.NotOneValueFound: Expected one value, found 0\n"
     ]
    },
    {
     "ename": "NameError",
     "evalue": "name 'np' is not defined",
     "output_type": "error",
     "traceback": [
      "\u001b[0;31m---------------------------------------------------------------------------\u001b[0m",
      "\u001b[0;31mNameError\u001b[0m                                 Traceback (most recent call last)",
      "File \u001b[0;32m~/Desktop/REPOs/dslr/describe.py:53\u001b[0m, in \u001b[0;36m<module>\u001b[0;34m\u001b[0m\n\u001b[1;32m     49\u001b[0m     \u001b[38;5;28mprint\u001b[39m(df_out\u001b[38;5;241m.\u001b[39mdescribe())\n\u001b[1;32m     52\u001b[0m \u001b[38;5;28;01mif\u001b[39;00m \u001b[38;5;18m__name__\u001b[39m \u001b[38;5;241m==\u001b[39m \u001b[38;5;124m'\u001b[39m\u001b[38;5;124m__main__\u001b[39m\u001b[38;5;124m'\u001b[39m:\n\u001b[0;32m---> 53\u001b[0m     \u001b[43mdescribe\u001b[49m\u001b[43m(\u001b[49m\u001b[43m)\u001b[49m\n",
      "File \u001b[0;32m~/Desktop/REPOs/dslr/describe.py:41\u001b[0m, in \u001b[0;36mdescribe\u001b[0;34m()\u001b[0m\n\u001b[1;32m     39\u001b[0m \u001b[38;5;28;01mfor\u001b[39;00m col \u001b[38;5;129;01min\u001b[39;00m df_out:\n\u001b[1;32m     40\u001b[0m     column \u001b[38;5;241m=\u001b[39m df_out[col]\n\u001b[0;32m---> 41\u001b[0m     \u001b[38;5;28;01mfor\u001b[39;00m calculated \u001b[38;5;129;01min\u001b[39;00m [count_(column), \u001b[43mmean_\u001b[49m\u001b[43m(\u001b[49m\u001b[43mcolumn\u001b[49m\u001b[43m)\u001b[49m, std_(column), min_(column),\n\u001b[1;32m     42\u001b[0m                        percentile_(column, \u001b[38;5;241m25\u001b[39m), percentile_(column, \u001b[38;5;241m50\u001b[39m),\n\u001b[1;32m     43\u001b[0m                        percentile_(column, \u001b[38;5;241m75\u001b[39m), max_(column)]:\n\u001b[1;32m     44\u001b[0m         \u001b[38;5;28mprint\u001b[39m(\u001b[38;5;124mf\u001b[39m\u001b[38;5;124m'\u001b[39m\u001b[38;5;132;01m{\u001b[39;00mcalculated\u001b[38;5;132;01m}\u001b[39;00m\u001b[38;5;132;01m{\u001b[39;00m\u001b[38;5;28mformat\u001b[39m\u001b[38;5;132;01m}\u001b[39;00m\u001b[38;5;124m'\u001b[39m\u001b[38;5;241m.\u001b[39mformat(values\u001b[38;5;241m=\u001b[39mcalculated, \u001b[38;5;28mformat\u001b[39m\u001b[38;5;241m=\u001b[39mfmt), end\u001b[38;5;241m=\u001b[39m\u001b[38;5;124m'\u001b[39m\u001b[38;5;124m |\u001b[39m\u001b[38;5;124m'\u001b[39m)\n\u001b[1;32m     48\u001b[0m \u001b[38;5;28mprint\u001b[39m(\u001b[38;5;124m\"\u001b[39m\u001b[38;5;124mpandas.describe() output\u001b[39m\u001b[38;5;124m\"\u001b[39m)\n",
      "File \u001b[0;32m~/Desktop/REPOs/dslr/dslr_math.py:17\u001b[0m, in \u001b[0;36mmean_\u001b[0;34m(X)\u001b[0m\n\u001b[1;32m     15\u001b[0m total \u001b[38;5;241m=\u001b[39m \u001b[38;5;241m0\u001b[39m\n\u001b[1;32m     16\u001b[0m \u001b[38;5;28;01mfor\u001b[39;00m x \u001b[38;5;129;01min\u001b[39;00m X:\n\u001b[0;32m---> 17\u001b[0m     \u001b[38;5;28;01mif\u001b[39;00m \u001b[43mnp\u001b[49m\u001b[38;5;241m.\u001b[39misnan(x):\n\u001b[1;32m     18\u001b[0m         \u001b[38;5;28;01mcontinue\u001b[39;00m\n\u001b[1;32m     19\u001b[0m     total \u001b[38;5;241m=\u001b[39m total \u001b[38;5;241m+\u001b[39m x\n",
      "\u001b[0;31mNameError\u001b[0m: name 'np' is not defined"
     ]
    }
   ],
   "source": [
    "filename = 'datasets/dataset_test.csv'\n",
    "no_file = 'no_file'\n",
    "no_rights = 'datasets/invalid/no_rights.csv'\n",
    "empty_file = 'datasets/invalid/empty.csv'\n",
    "only_header = 'datasets/invalid/only_header.csv'\n",
    "\n",
    "###validation\n",
    "%run describe $filename\n",
    "print()\n",
    "#%run describe $no_rights\n",
    "print()\n",
    "#%run describe $empty_file\n",
    "print()\n",
    "\n",
    "\n",
    "%run describe $filename"
   ]
  },
  {
   "cell_type": "code",
   "execution_count": null,
   "id": "326e2246-e78c-463c-9f6b-26e1edc8a872",
   "metadata": {},
   "outputs": [],
   "source": []
  },
  {
   "cell_type": "code",
   "execution_count": null,
   "id": "8eb575fd-d80b-4c77-bc65-b027cf2b979f",
   "metadata": {},
   "outputs": [],
   "source": []
  },
  {
   "cell_type": "code",
   "execution_count": null,
   "id": "33ca8db2-74c1-4728-a819-f8ae83f092c9",
   "metadata": {},
   "outputs": [],
   "source": []
  }
 ],
 "metadata": {
  "kernelspec": {
   "display_name": "Python 3 (ipykernel)",
   "language": "python",
   "name": "python3"
  },
  "language_info": {
   "codemirror_mode": {
    "name": "ipython",
    "version": 3
   },
   "file_extension": ".py",
   "mimetype": "text/x-python",
   "name": "python",
   "nbconvert_exporter": "python",
   "pygments_lexer": "ipython3",
   "version": "3.9.9"
  }
 },
 "nbformat": 4,
 "nbformat_minor": 5
}
